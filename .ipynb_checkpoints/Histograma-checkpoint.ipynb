{
 "cells": [
  {
   "cell_type": "code",
   "execution_count": 1,
   "id": "31d25faa",
   "metadata": {},
   "outputs": [],
   "source": [
    "with open('Entrada_EscalaCinza.pgm', 'r') as pgm_file:\n",
    "    # Ler o cabeçalho PGM (linhas que começam com '#' são comentários)\n",
    "    while True:\n",
    "        linha = pgm_file.readline().strip()\n",
    "        if not linha or linha.startswith('#'):\n",
    "            continue\n",
    "        if linha == 'P2':\n",
    "            formato = linha\n",
    "        else:\n",
    "            largura, altura = map(int, linha.split())\n",
    "            break\n",
    "            \n",
    "            \n",
    "    # Ler o valor máximo de intensidade (geralmente 255)\n",
    "    max_valor = int(pgm_file.readline())\n",
    "\n",
    "    # Ler os pixels em tons de cinza\n",
    "    pixels = []\n",
    "    total = altura*largura\n",
    "    for _ in range(total):\n",
    "        linha = pgm_file.readline().split()\n",
    "        for valor in linha:\n",
    "            pixel_em_cinza = int(valor)\n",
    "            pixels.append(pixel_em_cinza)\n"
   ]
  },
  {
   "cell_type": "code",
   "execution_count": 2,
   "id": "b8a349d2",
   "metadata": {},
   "outputs": [
    {
     "name": "stdout",
     "output_type": "stream",
     "text": [
      "Dados gravados em Entrada_EscalaCinza.csv.\n"
     ]
    }
   ],
   "source": [
    "import csv\n",
    "\n",
    "# Ler o arquivo PGM e obter os pixels em tons de cinza (como no exemplo anterior)\n",
    "# ...\n",
    "\n",
    "# Caminho para o arquivo CSV de saída\n",
    "caminho_saida_csv = 'Entrada_EscalaCinza.csv'\n",
    "\n",
    "# Escrever os pixels em tons de cinza no arquivo CSV\n",
    "with open(caminho_saida_csv, 'w', newline='') as csv_file:\n",
    "    writer = csv.writer(csv_file)\n",
    "\n",
    "    # Escrever o cabeçalho (opcional)\n",
    "    writer.writerow(['Pixel'])\n",
    "\n",
    "    # Escrever os pixels em tons de cinza\n",
    "    for pixel_em_cinza in pixels:\n",
    "        writer.writerow([pixel_em_cinza])\n",
    "\n",
    "print(f'Dados gravados em {caminho_saida_csv}.')\n"
   ]
  },
  {
   "cell_type": "code",
   "execution_count": 3,
   "id": "4405d070",
   "metadata": {},
   "outputs": [
    {
     "data": {
      "image/png": "[encoded data removed]",
      "text/plain": [
       "<Figure size 640x480 with 1 Axes>"
      ]
     },
     "metadata": {},
     "output_type": "display_data"
    }
   ],
   "source": [
    "import csv\n",
    "import matplotlib.pyplot as plt\n",
    "\n",
    "# Ler os dados do arquivo CSV\n",
    "dados = []\n",
    "\n",
    "with open('Entrada_EscalaCinza.csv', 'r') as csv_file:\n",
    "    reader = csv.reader(csv_file)\n",
    "    next(reader)  # Pule o cabeçalho (se houver)\n",
    "    for linha in reader:\n",
    "        pixel_em_cinza = int(linha[0])\n",
    "        dados.append(pixel_em_cinza)\n",
    "\n",
    "# Plotar o histograma\n",
    "plt.hist(dados, bins=256, range=(0, 256), density=False, alpha=0.75, color='gray')\n",
    "plt.xlabel('Valor em Tons de Cinza')\n",
    "plt.ylabel('Frequência')\n",
    "plt.title('Histograma de Tons de Cinza')\n",
    "plt.grid(True)\n",
    "plt.show()\n"
   ]
  },
  {
   "cell_type": "code",
   "execution_count": 59,
   "id": "662311a4",
   "metadata": {},
   "outputs": [],
   "source": [
    "# Escrever os pixels em tons de cinza no arquivo CSV\n",
    "with open(caminho_saida_csv, 'w', newline='') as csv_file:\n",
    "    writer = csv.writer(csv_file)\n",
    "\n",
    "    # Escrever o cabeçalho (opcional)\n",
    "    writer.writerow(['Pixel'])\n",
    "\n",
    "\n",
    "with open('EntradaRGB.ppm', 'r') as ppm_file:\n",
    "    # Ler o cabeçalho PGM (linhas que começam com '#' são comentários)\n",
    "    while True:\n",
    "        linha = ppm_file.readline().strip()\n",
    "        if not linha or linha.startswith('#'):\n",
    "            continue\n",
    "        if linha == 'P3':\n",
    "            formato = linha\n",
    "        else:\n",
    "            largura, altura = map(int, linha.split())\n",
    "            break\n",
    "            \n",
    "            \n",
    "    # Ler o valor máximo de intensidade (geralmente 255)\n",
    "    max_valor = int(ppm_file.readline())\n",
    "\n",
    "    # Ler os pixels em tons de cinza\n",
    "    pixels = []\n",
    "    total = 0\n",
    "    total = ppm_file.readlines()\n",
    "    for f in total:\n",
    "        linha = f.split()\n",
    "        for i in range(0, len(linha), 3):\n",
    "            r = linha[i]\n",
    "            g = linha[i + 1]\n",
    "            b = linha[i + 2]\n",
    "            pixels.append([r,g,b])\n"
   ]
  },
  {
   "cell_type": "code",
   "execution_count": 64,
   "id": "e136996c",
   "metadata": {},
   "outputs": [
    {
     "name": "stdout",
     "output_type": "stream",
     "text": [
      "Dados gravados em EntradaRGB.csv.\n"
     ]
    }
   ],
   "source": [
    "caminho_saida_csv = 'EntradaRGB.csv'\n",
    "\n",
    "# Escrever os pixels em tons de cinza no arquivo CSV\n",
    "with open(caminho_saida_csv, 'w', newline='') as csv_file:\n",
    "    writer = csv.writer(csv_file)\n",
    "\n",
    "    # Escrever o cabeçalho (opcional)\n",
    "    writer.writerow(['Pixel'])\n",
    "\n",
    "    # Escrever os pixels em tons de cinza\n",
    "    for pixelRGB in pixels:\n",
    "        writer = csv.writer(csv_file, delimiter=', ')\n",
    "        dados[\n",
    "            [pixelRGB[0],pixelRGB[1],pixelRGB[2]]\n",
    "        ]\n",
    "        for linha in dados:\n",
    "            writer.writerow(linha)\n",
    "\n",
    "print(f'Dados gravados em {caminho_saida_csv}.')\n"
   ]
  },
  {
   "cell_type": "code",
   "execution_count": 25,
   "id": "838958ba",
   "metadata": {},
   "outputs": [
    {
     "ename": "TypeError",
     "evalue": "list indices must be integers or slices, not str",
     "output_type": "error",
     "traceback": [
      "\u001b[0;31m---------------------------------------------------------------------------\u001b[0m",
      "\u001b[0;31mTypeError\u001b[0m                                 Traceback (most recent call last)",
      "\u001b[0;32m/tmp/ipykernel_4948/16346367.py\u001b[0m in \u001b[0;36m<module>\u001b[0;34m\u001b[0m\n\u001b[1;32m      9\u001b[0m     \u001b[0;32mfor\u001b[0m \u001b[0mlinha\u001b[0m \u001b[0;32min\u001b[0m \u001b[0mreader\u001b[0m\u001b[0;34m:\u001b[0m\u001b[0;34m\u001b[0m\u001b[0;34m\u001b[0m\u001b[0m\n\u001b[1;32m     10\u001b[0m         \u001b[0;32mfor\u001b[0m \u001b[0mi\u001b[0m \u001b[0;32min\u001b[0m \u001b[0mlinha\u001b[0m\u001b[0;34m:\u001b[0m\u001b[0;34m\u001b[0m\u001b[0;34m\u001b[0m\u001b[0m\n\u001b[0;32m---> 11\u001b[0;31m             \u001b[0mpixel_r\u001b[0m \u001b[0;34m=\u001b[0m \u001b[0mint\u001b[0m\u001b[0;34m(\u001b[0m\u001b[0mlinha\u001b[0m\u001b[0;34m[\u001b[0m\u001b[0mi\u001b[0m\u001b[0;34m]\u001b[0m\u001b[0;34m)\u001b[0m\u001b[0;34m\u001b[0m\u001b[0;34m\u001b[0m\u001b[0m\n\u001b[0m\u001b[1;32m     12\u001b[0m             \u001b[0mpixel_g\u001b[0m \u001b[0;34m=\u001b[0m \u001b[0mint\u001b[0m\u001b[0;34m(\u001b[0m\u001b[0mlinha\u001b[0m\u001b[0;34m[\u001b[0m\u001b[0mi\u001b[0m\u001b[0;34m+\u001b[0m\u001b[0;36m1\u001b[0m\u001b[0;34m]\u001b[0m\u001b[0;34m)\u001b[0m\u001b[0;34m\u001b[0m\u001b[0;34m\u001b[0m\u001b[0m\n\u001b[1;32m     13\u001b[0m             \u001b[0mpixel_b\u001b[0m \u001b[0;34m=\u001b[0m \u001b[0mint\u001b[0m\u001b[0;34m(\u001b[0m\u001b[0mlinha\u001b[0m\u001b[0;34m[\u001b[0m\u001b[0mi\u001b[0m\u001b[0;34m+\u001b[0m\u001b[0;36m2\u001b[0m\u001b[0;34m]\u001b[0m\u001b[0;34m)\u001b[0m\u001b[0;34m\u001b[0m\u001b[0;34m\u001b[0m\u001b[0m\n",
      "\u001b[0;31mTypeError\u001b[0m: list indices must be integers or slices, not str"
     ]
    }
   ],
   "source": [
    "# Ler os dados do arquivo CSV\n",
    "dados_r = []\n",
    "dados_g = []\n",
    "dados_b = []\n",
    "\n",
    "with open('EntradaRGB.csv', 'r') as csv_file:\n",
    "    reader = csv.reader(csv_file)\n",
    "    next(reader)  # Pule o cabeçalho (se houver)\n",
    "    for linha in reader:\n",
    "        for i in linha:\n",
    "            pixel_r = int(linha[i])\n",
    "            pixel_g = int(linha[i+1])\n",
    "            pixel_b = int(linha[i+2])\n",
    "            dados_r.append(pixel_r)\n",
    "            dados_g.append(pixel_g)\n",
    "            dados_b.append(pixel_b)\n",
    "\n",
    "# Plotar o histograma R\n",
    "plt.hist(dados_r, bins=256, range=(0, 256), density=False, alpha=0.75, color='gray')\n",
    "plt.xlabel('Valor em Tons de Vermelho')\n",
    "plt.ylabel('Frequência')\n",
    "plt.title('Histograma de Vermelho')\n",
    "plt.grid(True)\n",
    "plt.show()\n",
    "\n",
    "# Plotar o histograma G\n",
    "plt.hist(dados_g, bins=256, range=(0, 256), density=False, alpha=0.75, color='gray')\n",
    "plt.xlabel('Valor em Verde')\n",
    "plt.ylabel('Frequência')\n",
    "plt.title('Histograma de Verde')\n",
    "plt.grid(True)\n",
    "plt.show()\n",
    "\n",
    "# Plotar o histograma B\n",
    "plt.hist(dados_b, bins=256, range=(0, 256), density=False, alpha=0.75, color='gray')\n",
    "plt.xlabel('Valor em Azul')\n",
    "plt.ylabel('Frequência')\n",
    "plt.title('Histograma de Azul')\n",
    "plt.grid(True)\n",
    "plt.show()"
   ]
  },
  {
   "cell_type": "code",
   "execution_count": 43,
   "id": "c54ecc94",
   "metadata": {},
   "outputs": [
    {
     "name": "stdout",
     "output_type": "stream",
     "text": [
      "Dados foram gravados em 'exemplo.csv'\n"
     ]
    }
   ],
   "source": [
    "import csv\n",
    "\n",
    "# Dados que você deseja gravar no arquivo CSV\n",
    "dados = [\n",
    "    [\"Nome\", \"Idade\"],\n",
    "    [\"Alice\", 25],\n",
    "    [\"Bob\", 30],\n",
    "    [\"Charlie\", 35]\n",
    "]\n",
    "\n",
    "# Nome do arquivo CSV que você deseja criar ou atualizar\n",
    "nome_arquivo = \"exemplo.csv\"\n",
    "\n",
    "# Abra o arquivo CSV no modo de escrita ('w', que cria um novo arquivo ou sobrescreve um existente)\n",
    "with open(nome_arquivo, 'w', newline='') as arquivo_csv:\n",
    "    # Crie um objeto escritor CSV\n",
    "    escritor_csv = csv.writer(arquivo_csv)\n",
    "    \n",
    "    # Escreva os dados no arquivo CSV\n",
    "    for linha in dados:\n",
    "        escritor_csv.writerow(linha)\n",
    "\n",
    "print(f\"Dados foram gravados em '{nome_arquivo}'\")\n"
   ]
  },
  {
   "cell_type": "code",
   "execution_count": 45,
   "id": "85ece027",
   "metadata": {},
   "outputs": [
    {
     "name": "stdout",
     "output_type": "stream",
     "text": [
      "Nova lista foi adicionada a 'exemplo.csv'\n"
     ]
    }
   ],
   "source": []
  },
  {
   "cell_type": "code",
   "execution_count": 55,
   "id": "5e2cc43f",
   "metadata": {},
   "outputs": [],
   "source": []
  },
  {
   "cell_type": "code",
   "execution_count": 56,
   "id": "3e4181ba",
   "metadata": {},
   "outputs": [
    {
     "name": "stdout",
     "output_type": "stream",
     "text": [
      "Dados foram gravados em 'exemplo.csv'\n"
     ]
    }
   ],
   "source": []
  },
  {
   "cell_type": "code",
   "execution_count": null,
   "id": "2e2aa164",
   "metadata": {},
   "outputs": [],
   "source": []
  }
 ],
 "metadata": {
  "kernelspec": {
   "display_name": "Python 3 (ipykernel)",
   "language": "python",
   "name": "python3"
  },
  "language_info": {
   "codemirror_mode": {
    "name": "ipython",
    "version": 3
   },
   "file_extension": ".py",
   "mimetype": "text/x-python",
   "name": "python",
   "nbconvert_exporter": "python",
   "pygments_lexer": "ipython3",
   "version": "3.9.13"
  }
 },
 "nbformat": 4,
 "nbformat_minor": 5
}
